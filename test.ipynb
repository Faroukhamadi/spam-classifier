{
 "cells": [
  {
   "cell_type": "code",
   "execution_count": 369,
   "id": "26d24710",
   "metadata": {},
   "outputs": [],
   "source": [
    "import os\n",
    "import urllib.request\n",
    "import tarfile\n",
    "import re\n",
    "import email\n",
    "\n",
    "import numpy as np\n",
    "import matplotlib.pyplot as plt\n",
    "from sklearn.feature_extraction.text import CountVectorizer\n",
    "from collections import Counter"
   ]
  },
  {
   "cell_type": "code",
   "execution_count": 5,
   "id": "21755124",
   "metadata": {},
   "outputs": [],
   "source": [
    "DOWNLOAD_ROOT = 'https://spamassassin.apache.org/old/publiccorpus/'\n",
    "SPAM_PATHS = [\n",
    "    '20021010_easy_ham.tar.bz2',\n",
    "    '20021010_hard_ham.tar.bz2',\n",
    "    '20021010_spam.tar.bz2',\n",
    "    '20030228_easy_ham.tar.bz2',\n",
    "    '20030228_easy_ham_2.tar.bz2',\n",
    "    '20030228_hard_ham.tar.bz2',\n",
    "    '20030228_spam.tar.bz2',\n",
    "    '20030228_spam_2.tar.bz2',\n",
    "    '20050311_spam_2.tar.bz2',\n",
    "]"
   ]
  },
  {
   "cell_type": "markdown",
   "id": "9e093425",
   "metadata": {},
   "source": [
    "### Concatenating all datasets might not work!! Too much data"
   ]
  },
  {
   "cell_type": "code",
   "execution_count": 587,
   "id": "0532bc39",
   "metadata": {},
   "outputs": [],
   "source": [
    "def fetch_spam_data(download_root=DOWNLOAD_ROOT, spam_paths=SPAM_PATHS):\n",
    "    if not os.path.isdir('data'):\n",
    "        os.makedirs('data')\n",
    "    for path in SPAM_PATHS:\n",
    "        url = DOWNLOAD_ROOT + path\n",
    "        tgz_path = os.path.join('data', path)\n",
    "        urllib.request.urlretrieve(url, tgz_path)\n",
    "        spam_tgz = tarfile.open(tgz_path)\n",
    "        spam_tgz.extractall(path='data')\n",
    "    spam_tgz.close()"
   ]
  },
  {
   "cell_type": "code",
   "execution_count": 588,
   "id": "de89fd4c",
   "metadata": {},
   "outputs": [],
   "source": [
    "fetch_spam_data()"
   ]
  },
  {
   "cell_type": "markdown",
   "id": "4b67725b",
   "metadata": {},
   "source": [
    "### One spam example + one ham example should do it"
   ]
  },
  {
   "cell_type": "code",
   "execution_count": 6,
   "id": "4f6103dc",
   "metadata": {},
   "outputs": [],
   "source": [
    "def load_data():\n",
    "    ham_path = os.path.join(os.getcwd(), 'data', 'easy_ham_2')\n",
    "    spam_path = os.path.join(os.getcwd(), 'data', 'spam_2')\n",
    "    \n",
    "    x_spam = []\n",
    "    x_ham = []\n",
    "    \n",
    "    for filename in os.listdir(ham_path):\n",
    "        abs_path = os.path.join(ham_path, filename)\n",
    "        with open(abs_path, 'r', encoding='utf8', errors='ignore') as f:\n",
    "            x_ham.append(f.read())\n",
    "\n",
    "    for filename in os.listdir(spam_path):\n",
    "        abs_path = os.path.join(spam_path, filename)\n",
    "        with open(abs_path, 'r', encoding='utf8', errors='ignore') as f:\n",
    "            x_spam.append(f.read())\n",
    "            \n",
    "    return np.array(x_spam, dtype='object'), np.array(x_ham, dtype='object')"
   ]
  },
  {
   "cell_type": "markdown",
   "id": "3b82793e",
   "metadata": {},
   "source": [
    "## Warning! Don't use the function below"
   ]
  },
  {
   "cell_type": "code",
   "execution_count": 238,
   "id": "598d50aa",
   "metadata": {},
   "outputs": [],
   "source": [
    "def load_all_data():\n",
    "    \"\"\"\n",
    "    If OpenAI ever wants to test their TPUs, this is a good place to start.\n",
    "    Not feasible on a normal computer though :(\n",
    "    \"\"\"\n",
    "    x_spam = []\n",
    "    x_ham = []\n",
    "    path = os.path.join(os.getcwd(), 'data')\n",
    "    for dirname in os.listdir(path):\n",
    "        if 'tar' not in dirname:\n",
    "            if 'spam' in dirname:\n",
    "                for filename in os.listdir(os.path.join(path, dirname)):\n",
    "                    abs_path = os.path.join(path, dirname, filename)\n",
    "                    with open(abs_path, 'rb') as f:\n",
    "                        x_spam.append(f.read().split())\n",
    "            else:\n",
    "                for filename in os.listdir(os.path.join(path, dirname)):\n",
    "                    abs_path = os.path.join(path, dirname, filename)\n",
    "                    with open(abs_path, 'rb') as f:\n",
    "                        x_ham.append(f.read().split())\n",
    "    return np.array(x_spam), np.array(x_ham)"
   ]
  },
  {
   "cell_type": "code",
   "execution_count": 7,
   "id": "2f9302e1",
   "metadata": {},
   "outputs": [],
   "source": [
    "x_spam, x_ham = load_data()\n",
    "y_spam = np.ones(x_spam.shape)\n",
    "y_ham = np.zeros(x_ham.shape)"
   ]
  },
  {
   "cell_type": "code",
   "execution_count": 8,
   "id": "37ea0aa5",
   "metadata": {},
   "outputs": [],
   "source": [
    "x = np.concatenate([x_spam, x_ham])\n",
    "y = np.concatenate([y_spam, y_ham])"
   ]
  },
  {
   "cell_type": "markdown",
   "id": "fb33ede7",
   "metadata": {},
   "source": [
    "##### Define a custom preprocessing steps to convert to lowercase and remove: \n",
    "- URLs\n",
    "- Numbers"
   ]
  },
  {
   "cell_type": "code",
   "execution_count": 392,
   "id": "3d76f40a",
   "metadata": {},
   "outputs": [],
   "source": [
    "from sklearn.model_selection import StratifiedShuffleSplit\n",
    "from sklearn.naive_bayes import MultinomialNB\n",
    "from sklearn.metrics import accuracy_score\n",
    "from sklearn.base import BaseEstimator, TransformerMixin\n",
    "from nltk.stem.snowball import SnowballStemmer\n",
    "from sklearn.pipeline import make_pipeline"
   ]
  },
  {
   "cell_type": "code",
   "execution_count": 276,
   "id": "fa99384c",
   "metadata": {},
   "outputs": [],
   "source": [
    "sss = StratifiedShuffleSplit(n_splits=1, test_size=0.2, random_state=42)"
   ]
  },
  {
   "cell_type": "code",
   "execution_count": 277,
   "id": "e49a570e",
   "metadata": {},
   "outputs": [],
   "source": [
    "for train_index, test_index in sss.split(x, y):\n",
    "    x_train, x_test = x[train_index], x[test_index]\n",
    "    y_train, y_test = y[train_index], y[test_index]"
   ]
  },
  {
   "cell_type": "code",
   "execution_count": 632,
   "id": "555a7056",
   "metadata": {},
   "outputs": [],
   "source": [
    "class EmailTransformer(BaseEstimator, TransformerMixin):\n",
    "    def __init__(self, strip_headers=False, convert_lower=True):\n",
    "        self.strip_headers = strip_headers\n",
    "        self.convert_lower = convert_lower\n",
    "    \n",
    "    def fit(self, x, y=None):\n",
    "        return self\n",
    "    \n",
    "    def transform(self, x):\n",
    "        x_out = np.empty((x.shape), dtype=x.dtype)\n",
    "        for i, e in enumerate(x):\n",
    "            msg = email.message_from_string(e)\n",
    "\n",
    "            if self.strip_headers:\n",
    "                for k in msg.keys():\n",
    "                    del msg[k]\n",
    "\n",
    "                    \n",
    "            payload = msg.get_payload()\n",
    "            \n",
    "            if self.convert_lower:\n",
    "                if isinstance(payload, list):\n",
    "                    payload_str = ''.join(p.as_string().lower() for p in payload)\n",
    "                    msg.set_payload(payload_str)\n",
    "                else:\n",
    "                    msg.set_payload(msg.get_payload().lower())\n",
    "            \n",
    "            x_out[i] = msg.as_string()\n",
    "\n",
    "        return x_out"
   ]
  },
  {
   "cell_type": "code",
   "execution_count": 704,
   "id": "585c87b0",
   "metadata": {},
   "outputs": [],
   "source": [
    "class EmailReplacer(BaseEstimator, TransformerMixin):\n",
    "    def __init__(self, replace_url=False, replace_number=False):\n",
    "        self.replace_url = replace_url\n",
    "        self.replace_number = replace_number\n",
    "    \n",
    "    def fit(self, x, y=None):\n",
    "        return self\n",
    "    \n",
    "    def transform(self, x):\n",
    "        x_out = np.empty((x.shape), dtype=x.dtype)\n",
    "        \n",
    "        for i, e in enumerate(x):\n",
    "            if isinstance(e, bytes):\n",
    "                e = e.decode('ISO-8859-1')\n",
    "                \n",
    "            if self.replace_url:\n",
    "                e = re.sub(r'http\\S+|www\\S+', 'URL', e)\n",
    "            \n",
    "            if self.replace_number:\n",
    "                e = re.sub(r'\\d+', 'NUMBER', e)\n",
    "                \n",
    "            e = e.lower()\n",
    "            \n",
    "            x_out[i] = e\n",
    "        \n",
    "        return x_out"
   ]
  },
  {
   "cell_type": "code",
   "execution_count": 705,
   "id": "29fefddb",
   "metadata": {},
   "outputs": [],
   "source": [
    "class EmailStemmer(BaseEstimator, TransformerMixin):\n",
    "    def __init__(self, use_porter=False):\n",
    "        self.use_porter = use_porter\n",
    "        \n",
    "    def fit(self, x, y=None):\n",
    "        return self\n",
    "    \n",
    "    def transform(self, x):\n",
    "        x_out = np.empty((x.shape), dtype=x.dtype)\n",
    "\n",
    "        for i, e in enumerate(x):\n",
    "            if self.use_porter:\n",
    "                x_out[i] = SnowballStemmer('porter').stem(e)\n",
    "            else:\n",
    "                x_out[i] = SnowballStemmer('english').stem(e)\n",
    "                \n",
    "        return x_out"
   ]
  },
  {
   "cell_type": "markdown",
   "id": "2ac87a0e",
   "metadata": {},
   "source": [
    "##### Don't use this 🔫"
   ]
  },
  {
   "cell_type": "code",
   "execution_count": 713,
   "id": "91c4dada",
   "metadata": {},
   "outputs": [],
   "source": [
    "# This is useless since we have CountVectorizer\n",
    "class TransformBOW(BaseEstimator, TransformerMixin):\n",
    "    def fit(self, x, y=None):\n",
    "        return self\n",
    "\n",
    "    def transform(self, x):\n",
    "        vectorizer = CountVectorizer(encoding='ISO-8859-1')\n",
    "        x_bow_sparse = vectorizer.fit_transform(x)\n",
    "        x_bow = x_bow_sparse.toarray()\n",
    "        return x_bow"
   ]
  },
  {
   "cell_type": "code",
   "execution_count": 716,
   "id": "ca30871e",
   "metadata": {},
   "outputs": [],
   "source": [
    "pipeline = make_pipeline(EmailTransformer(), EmailReplacer(replace_number=True, replace_url=True), EmailStemmer(), verbose=3)"
   ]
  },
  {
   "cell_type": "code",
   "execution_count": 717,
   "id": "d46c7638",
   "metadata": {},
   "outputs": [
    {
     "name": "stdout",
     "output_type": "stream",
     "text": [
      "[Pipeline] .. (step 1 of 3) Processing emailtransformer, total=   4.4s\n",
      "[Pipeline] ..... (step 2 of 3) Processing emailreplacer, total=   0.4s\n",
      "[Pipeline] ...... (step 3 of 3) Processing emailstemmer, total=   1.4s\n"
     ]
    }
   ],
   "source": [
    "x_tr = pipeline.fit_transform(x)"
   ]
  },
  {
   "cell_type": "code",
   "execution_count": 718,
   "id": "1e07b879",
   "metadata": {},
   "outputs": [
    {
     "data": {
      "text/html": [
       "<style>#sk-container-id-18 {color: black;background-color: white;}#sk-container-id-18 pre{padding: 0;}#sk-container-id-18 div.sk-toggleable {background-color: white;}#sk-container-id-18 label.sk-toggleable__label {cursor: pointer;display: block;width: 100%;margin-bottom: 0;padding: 0.3em;box-sizing: border-box;text-align: center;}#sk-container-id-18 label.sk-toggleable__label-arrow:before {content: \"▸\";float: left;margin-right: 0.25em;color: #696969;}#sk-container-id-18 label.sk-toggleable__label-arrow:hover:before {color: black;}#sk-container-id-18 div.sk-estimator:hover label.sk-toggleable__label-arrow:before {color: black;}#sk-container-id-18 div.sk-toggleable__content {max-height: 0;max-width: 0;overflow: hidden;text-align: left;background-color: #f0f8ff;}#sk-container-id-18 div.sk-toggleable__content pre {margin: 0.2em;color: black;border-radius: 0.25em;background-color: #f0f8ff;}#sk-container-id-18 input.sk-toggleable__control:checked~div.sk-toggleable__content {max-height: 200px;max-width: 100%;overflow: auto;}#sk-container-id-18 input.sk-toggleable__control:checked~label.sk-toggleable__label-arrow:before {content: \"▾\";}#sk-container-id-18 div.sk-estimator input.sk-toggleable__control:checked~label.sk-toggleable__label {background-color: #d4ebff;}#sk-container-id-18 div.sk-label input.sk-toggleable__control:checked~label.sk-toggleable__label {background-color: #d4ebff;}#sk-container-id-18 input.sk-hidden--visually {border: 0;clip: rect(1px 1px 1px 1px);clip: rect(1px, 1px, 1px, 1px);height: 1px;margin: -1px;overflow: hidden;padding: 0;position: absolute;width: 1px;}#sk-container-id-18 div.sk-estimator {font-family: monospace;background-color: #f0f8ff;border: 1px dotted black;border-radius: 0.25em;box-sizing: border-box;margin-bottom: 0.5em;}#sk-container-id-18 div.sk-estimator:hover {background-color: #d4ebff;}#sk-container-id-18 div.sk-parallel-item::after {content: \"\";width: 100%;border-bottom: 1px solid gray;flex-grow: 1;}#sk-container-id-18 div.sk-label:hover label.sk-toggleable__label {background-color: #d4ebff;}#sk-container-id-18 div.sk-serial::before {content: \"\";position: absolute;border-left: 1px solid gray;box-sizing: border-box;top: 0;bottom: 0;left: 50%;z-index: 0;}#sk-container-id-18 div.sk-serial {display: flex;flex-direction: column;align-items: center;background-color: white;padding-right: 0.2em;padding-left: 0.2em;position: relative;}#sk-container-id-18 div.sk-item {position: relative;z-index: 1;}#sk-container-id-18 div.sk-parallel {display: flex;align-items: stretch;justify-content: center;background-color: white;position: relative;}#sk-container-id-18 div.sk-item::before, #sk-container-id-18 div.sk-parallel-item::before {content: \"\";position: absolute;border-left: 1px solid gray;box-sizing: border-box;top: 0;bottom: 0;left: 50%;z-index: -1;}#sk-container-id-18 div.sk-parallel-item {display: flex;flex-direction: column;z-index: 1;position: relative;background-color: white;}#sk-container-id-18 div.sk-parallel-item:first-child::after {align-self: flex-end;width: 50%;}#sk-container-id-18 div.sk-parallel-item:last-child::after {align-self: flex-start;width: 50%;}#sk-container-id-18 div.sk-parallel-item:only-child::after {width: 0;}#sk-container-id-18 div.sk-dashed-wrapped {border: 1px dashed gray;margin: 0 0.4em 0.5em 0.4em;box-sizing: border-box;padding-bottom: 0.4em;background-color: white;}#sk-container-id-18 div.sk-label label {font-family: monospace;font-weight: bold;display: inline-block;line-height: 1.2em;}#sk-container-id-18 div.sk-label-container {text-align: center;}#sk-container-id-18 div.sk-container {/* jupyter's `normalize.less` sets `[hidden] { display: none; }` but bootstrap.min.css set `[hidden] { display: none !important; }` so we also need the `!important` here to be able to override the default hidden behavior on the sphinx rendered scikit-learn.org. See: https://github.com/scikit-learn/scikit-learn/issues/21755 */display: inline-block !important;position: relative;}#sk-container-id-18 div.sk-text-repr-fallback {display: none;}</style><div id=\"sk-container-id-18\" class=\"sk-top-container\"><div class=\"sk-text-repr-fallback\"><pre>CountVectorizer(encoding=&#x27;ISO-8859-1&#x27;)</pre><b>In a Jupyter environment, please rerun this cell to show the HTML representation or trust the notebook. <br />On GitHub, the HTML representation is unable to render, please try loading this page with nbviewer.org.</b></div><div class=\"sk-container\" hidden><div class=\"sk-item\"><div class=\"sk-estimator sk-toggleable\"><input class=\"sk-toggleable__control sk-hidden--visually\" id=\"sk-estimator-id-21\" type=\"checkbox\" checked><label for=\"sk-estimator-id-21\" class=\"sk-toggleable__label sk-toggleable__label-arrow\">CountVectorizer</label><div class=\"sk-toggleable__content\"><pre>CountVectorizer(encoding=&#x27;ISO-8859-1&#x27;)</pre></div></div></div></div></div>"
      ],
      "text/plain": [
       "CountVectorizer(encoding='ISO-8859-1')"
      ]
     },
     "execution_count": 718,
     "metadata": {},
     "output_type": "execute_result"
    }
   ],
   "source": [
    "vectorizer = CountVectorizer(encoding='ISO-8859-1')\n",
    "vectorizer.fit(x_tr)"
   ]
  },
  {
   "cell_type": "code",
   "execution_count": 719,
   "id": "362b8fe4",
   "metadata": {},
   "outputs": [],
   "source": [
    "x_train_tr = vectorizer.transform(x_train)\n",
    "x_test_tr = vectorizer.transform(x_test)"
   ]
  },
  {
   "cell_type": "code",
   "execution_count": 709,
   "id": "98a1cd79",
   "metadata": {},
   "outputs": [],
   "source": [
    "x_train_tr = pipeline.transform(x_train)\n",
    "x_test_tr = pipeline.transform(x_test)"
   ]
  },
  {
   "cell_type": "code",
   "execution_count": 737,
   "id": "65e2bfed",
   "metadata": {},
   "outputs": [],
   "source": [
    "from sklearn.ensemble import RandomForestClassifier, GradientBoostingClassifier"
   ]
  },
  {
   "cell_type": "code",
   "execution_count": 742,
   "id": "5f909036",
   "metadata": {},
   "outputs": [
    {
     "data": {
      "text/html": [
       "<style>#sk-container-id-27 {color: black;background-color: white;}#sk-container-id-27 pre{padding: 0;}#sk-container-id-27 div.sk-toggleable {background-color: white;}#sk-container-id-27 label.sk-toggleable__label {cursor: pointer;display: block;width: 100%;margin-bottom: 0;padding: 0.3em;box-sizing: border-box;text-align: center;}#sk-container-id-27 label.sk-toggleable__label-arrow:before {content: \"▸\";float: left;margin-right: 0.25em;color: #696969;}#sk-container-id-27 label.sk-toggleable__label-arrow:hover:before {color: black;}#sk-container-id-27 div.sk-estimator:hover label.sk-toggleable__label-arrow:before {color: black;}#sk-container-id-27 div.sk-toggleable__content {max-height: 0;max-width: 0;overflow: hidden;text-align: left;background-color: #f0f8ff;}#sk-container-id-27 div.sk-toggleable__content pre {margin: 0.2em;color: black;border-radius: 0.25em;background-color: #f0f8ff;}#sk-container-id-27 input.sk-toggleable__control:checked~div.sk-toggleable__content {max-height: 200px;max-width: 100%;overflow: auto;}#sk-container-id-27 input.sk-toggleable__control:checked~label.sk-toggleable__label-arrow:before {content: \"▾\";}#sk-container-id-27 div.sk-estimator input.sk-toggleable__control:checked~label.sk-toggleable__label {background-color: #d4ebff;}#sk-container-id-27 div.sk-label input.sk-toggleable__control:checked~label.sk-toggleable__label {background-color: #d4ebff;}#sk-container-id-27 input.sk-hidden--visually {border: 0;clip: rect(1px 1px 1px 1px);clip: rect(1px, 1px, 1px, 1px);height: 1px;margin: -1px;overflow: hidden;padding: 0;position: absolute;width: 1px;}#sk-container-id-27 div.sk-estimator {font-family: monospace;background-color: #f0f8ff;border: 1px dotted black;border-radius: 0.25em;box-sizing: border-box;margin-bottom: 0.5em;}#sk-container-id-27 div.sk-estimator:hover {background-color: #d4ebff;}#sk-container-id-27 div.sk-parallel-item::after {content: \"\";width: 100%;border-bottom: 1px solid gray;flex-grow: 1;}#sk-container-id-27 div.sk-label:hover label.sk-toggleable__label {background-color: #d4ebff;}#sk-container-id-27 div.sk-serial::before {content: \"\";position: absolute;border-left: 1px solid gray;box-sizing: border-box;top: 0;bottom: 0;left: 50%;z-index: 0;}#sk-container-id-27 div.sk-serial {display: flex;flex-direction: column;align-items: center;background-color: white;padding-right: 0.2em;padding-left: 0.2em;position: relative;}#sk-container-id-27 div.sk-item {position: relative;z-index: 1;}#sk-container-id-27 div.sk-parallel {display: flex;align-items: stretch;justify-content: center;background-color: white;position: relative;}#sk-container-id-27 div.sk-item::before, #sk-container-id-27 div.sk-parallel-item::before {content: \"\";position: absolute;border-left: 1px solid gray;box-sizing: border-box;top: 0;bottom: 0;left: 50%;z-index: -1;}#sk-container-id-27 div.sk-parallel-item {display: flex;flex-direction: column;z-index: 1;position: relative;background-color: white;}#sk-container-id-27 div.sk-parallel-item:first-child::after {align-self: flex-end;width: 50%;}#sk-container-id-27 div.sk-parallel-item:last-child::after {align-self: flex-start;width: 50%;}#sk-container-id-27 div.sk-parallel-item:only-child::after {width: 0;}#sk-container-id-27 div.sk-dashed-wrapped {border: 1px dashed gray;margin: 0 0.4em 0.5em 0.4em;box-sizing: border-box;padding-bottom: 0.4em;background-color: white;}#sk-container-id-27 div.sk-label label {font-family: monospace;font-weight: bold;display: inline-block;line-height: 1.2em;}#sk-container-id-27 div.sk-label-container {text-align: center;}#sk-container-id-27 div.sk-container {/* jupyter's `normalize.less` sets `[hidden] { display: none; }` but bootstrap.min.css set `[hidden] { display: none !important; }` so we also need the `!important` here to be able to override the default hidden behavior on the sphinx rendered scikit-learn.org. See: https://github.com/scikit-learn/scikit-learn/issues/21755 */display: inline-block !important;position: relative;}#sk-container-id-27 div.sk-text-repr-fallback {display: none;}</style><div id=\"sk-container-id-27\" class=\"sk-top-container\"><div class=\"sk-text-repr-fallback\"><pre>GradientBoostingClassifier()</pre><b>In a Jupyter environment, please rerun this cell to show the HTML representation or trust the notebook. <br />On GitHub, the HTML representation is unable to render, please try loading this page with nbviewer.org.</b></div><div class=\"sk-container\" hidden><div class=\"sk-item\"><div class=\"sk-estimator sk-toggleable\"><input class=\"sk-toggleable__control sk-hidden--visually\" id=\"sk-estimator-id-30\" type=\"checkbox\" checked><label for=\"sk-estimator-id-30\" class=\"sk-toggleable__label sk-toggleable__label-arrow\">GradientBoostingClassifier</label><div class=\"sk-toggleable__content\"><pre>GradientBoostingClassifier()</pre></div></div></div></div></div>"
      ],
      "text/plain": [
       "GradientBoostingClassifier()"
      ]
     },
     "execution_count": 742,
     "metadata": {},
     "output_type": "execute_result"
    }
   ],
   "source": [
    "gb = GradientBoostingClassifier()\n",
    "gb.fit(x_train_tr, y_train)"
   ]
  },
  {
   "cell_type": "code",
   "execution_count": 743,
   "id": "d15dc7b0",
   "metadata": {},
   "outputs": [],
   "source": [
    "y_pred = gb.predict(x_test_tr)\n",
    "score = accuracy_score(y_test, y_pred)"
   ]
  },
  {
   "cell_type": "code",
   "execution_count": 745,
   "id": "f10fc203",
   "metadata": {},
   "outputs": [
    {
     "data": {
      "text/plain": [
       "0.9839285714285714"
      ]
     },
     "execution_count": 745,
     "metadata": {},
     "output_type": "execute_result"
    }
   ],
   "source": [
    "score"
   ]
  },
  {
   "cell_type": "code",
   "execution_count": 753,
   "id": "e25686c4",
   "metadata": {},
   "outputs": [
    {
     "data": {
      "text/plain": [
       "1.0"
      ]
     },
     "execution_count": 753,
     "metadata": {},
     "output_type": "execute_result"
    }
   ],
   "source": [
    "y_test[4]"
   ]
  },
  {
   "cell_type": "code",
   "execution_count": 750,
   "id": "ee28102d",
   "metadata": {},
   "outputs": [
    {
     "data": {
      "text/plain": [
       "'From wholesaleman6002@eudoramail.com  Tue Aug  6 10:58:55 2002\\nReturn-Path: <wholesaleman6002@eudoramail.com>\\nDelivered-To: yyyy@localhost.netnoteinc.com\\nReceived: from localhost (localhost [127.0.0.1])\\n\\tby phobos.labs.netnoteinc.com (Postfix) with ESMTP id EEB224411C\\n\\tfor <jm@localhost>; Tue,  6 Aug 2002 05:53:54 -0400 (EDT)\\nReceived: from mail.webnote.net [193.120.211.219]\\n\\tby localhost with POP3 (fetchmail-5.9.0)\\n\\tfor jm@localhost (single-drop); Tue, 06 Aug 2002 10:53:54 +0100 (IST)\\nReceived: from relais.videotron.ca (relais.videotron.ca [24.201.245.36])\\n\\tby webnote.net (8.9.3/8.9.3) with ESMTP id KAA07661\\n\\tfor <jm@netnoteinc.com>; Sat, 3 Aug 2002 10:44:23 +0100\\nFrom: wholesaleman6002@eudoramail.com\\nReceived: from ntserver2.CIM.ORG ([207.253.176.67]) by\\n          relais.videotron.ca (Videotron-Netscape Messaging Server v4.15\\n          MTA-PRD2) with ESMTP id H09HPE01.MS6; Sat, 3 Aug 2002 05:44:02 -0400 \\nReceived: from 221 (218.4.51.134 [218.4.51.134]) by ntserver2.CIM.ORG with SMTP (Microsoft Exchange Internet Mail Service Version 5.5.2653.13)\\n\\tid Q10BNT9Z; Sat, 3 Aug 2002 05:46:13 -0400\\nMessage-ID: <000061e20f37$00004c2f$000033a6@221>\\nTo: <.0.@webnote.net>\\nSubject: .+. 80 to 95% BELOW WHOLESALE             2306\\nDate: Sat, 03 Aug 2002 04:52:10 -1900\\nMIME-Version: 1.0\\nContent-Type: text/html; charset=\"iso-8859-1\"\\nContent-Transfer-Encoding: quoted-printable\\n\\n<html>\\n\\n<head>\\n<meta http-equiv=3D\"Content-Type\" content=3D\"text/html; charset=3Dwindows-=\\n1252\">\\n<meta name=3D\"GENERATOR\" content=3D\"Microsoft FrontPage 4.0\">\\n<meta name=3D\"ProgId\" content=3D\"FrontPage.Editor.Document\">\\n<title>New Page 1</title>\\n</head>\\n\\n<body>\\n\\n<div>\\n  <i><u><font face=3D\"Engravers MT\" color=3D\"#0000ff\">\\n  <h1 align=3D\"center\">80 to 95%</h1>\\n  <h1 align=3D\"center\">BELOW</font></u><font face=3D\"Engravers MT\" color=3D=\\n\"#0000ff\"> <u>WHOLESALE</h1>\\n  </u>\\n  <h1 align=3D\"center\">NEW, AND IN QUANTITIES YOU NEED</h1>\\n  <h1 align=3D\"center\">A SINGLE UNIT, A PALLET,<br>\\n  OR A TRUCKLOAD</h1>\\n  </font></i>\\n  <h3>1. Are you still looking for a very Real Business that can provide y=\\nou and\\n  your family with the lifestyle you desire? <i>Or,just a second income in=\\n your\\n  spare time?</h3>\\n  </i>\\n  <h3>2. Would you invest $66.50 (A 33% discount off of our regular price =\\nof\\n  $99.95 during this limited time promotion. ) in a business that could ma=\\nke you\\n  &quot;FINANCIALLY SECURE&quot; by buying at up to <i><u><font color=3D\"#=\\nff0000\">95%\\n  below wholesale and selling at 100 to 500%+ over your cost </font></u></=\\ni>?</h3>\\n  <h3>If so, read on:</h3>\\n  <h3>This is not a get rich quick scheme, but, it is a way for you to get=\\n into\\n  a business with a minimal investment and, may be your first step towards=\\n a\\n  rewarding first, or second income. For the longest time, only those, who=\\n were\\n  able to make large investments were able to take advantage of this type =\\nof a\\n  business. We have made it possible for everyone to do it, and at a price\\n  everyone can afford.</h3>\\n  <h3>Corporate America has conditioned us to believe that security comes =\\nfrom\\n  employment. Yet layoffs are hitting an all time high, major corporations=\\n are\\n  failing and we hope to never become the victims of this downsizing, care=\\ner\\n  burn out, illness or injury.</h3>\\n  <h3>There was a time, when finding another job was not a problem, but to=\\nday,\\n  the frightening reality for a lot of people is that<font color=3D\"#00800=\\n0\"> </font><font color=3D\"#800080\">&quot;the\\n  plastic in their wallets determines the quality of their lives.&quot;</h=\\n3>\\n  </font>\\n  <h3>The hard facts show that our economy has moved from the industrial a=\\nge\\n  into the INFORMATION, SERVICE AND RETAIL AGE. No longer can you depend o=\\nn the\\n  corporation to provide your family with job security. <u>We all need a b=\\nackup\\n  plan.</h3>\\n  </u>\\n  <h3>If you are TIRED OF LIVING FROM PAYCHECK TO PAYCHECK, and are willin=\\ng to\\n  work a few hours per week, than this may be for you.</h3>\\n  <h3>Please read further:</h3>\\n  <h3>We will show you how you can buy, new, not out of date, products for=\\n <font color=3D\"#ff0000\">PENNIES</font>\\n  on the <font color=3D\"#ff0000\">WHOLESALE DOLLAR</font>. We will NOT just=\\n send a\\n  list, or catalog of where you can buy, but actual point and click DATABA=\\nSE\\n  with hyperlinks to suppliers=FFFFFF92 websites and specials pages, with =\\nemail\\n  addresses, phone and fax numbers, and their current <font color=3D\"#ff00=\\n00\">HOT</font>\\n  listings. Unlike others=FFFFFF92 distribution businesses where you are p=\\nrovided with\\n  WHOLESALE CATALOGS, out of date CD\\'s, or lists of Government Auctions th=\\nat\\n  sell Jeeps for $10, (which are a myth), we provide an unlimited virtual\\n  database of items at up to 95% below wholesale from liquidators, not\\n  wholesalers, that is up-dated on a weekly/daily basis by the suppliers. =\\nAnd\\n  the products are available for immediate purchase and shipping to you, a=\\nnd\\n  guarantee our product for 30 days with a full refund guarantee if it is =\\nnot\\n  what we say.</h3>\\n  <h3>This database is designed for the individual or a small business. Al=\\nthough\\n  there are suppliers in this database selling in large quantities, most a=\\nre\\n  selected for their <u>flexability</u> in being willing sell in smaller\\n  quantities at great savings (80 to 95% Below Wholesale)</h3>\\n  <h3>You will be able to buy such items as RCA Stereos that retail for $2=\\n50.00+\\n  for$10 to $20.00, New Boom Boxes for $12.50 each, Palm Pilots for $39.00=\\n, Cell\\n  Phone Antenna Boosters that sell on TV for $19.95- - for .16 cents, Perf=\\nect\\n  Pancake makers as seen on TV for $19.95, for$6.50, CD=FFFFFF92s for $0.7=\\n5 each,\\n  Pentium computers for as little as $11.00, or Computer Software that ret=\\nails\\n  up to $74.99 for $0.50 each.</h3>\\n  <font color=3D\"#ff0000\" size=3D\"4\"><strong>\\n  <p>If you would like to see some sample listings and featured specials, =\\nplease\\n  email us at <a href=3D\"mailto:moreof80to95@themail.com\">moreof80to95@the=\\nmail.com</a></strong></font></p>\\n  <h3>You may purchase this database:</h3>\\n  <b><font size=3D\"4\">\\n  <p>By Credit Card: At PayPal to the account of </font></b><font size=3D\"=\\n2\">datapaid2000@yahoo.com</p>\\n  </font>\\n  <h3>By Phone with Credit Card at 502-741-8154</h3>\\n  <h3>Check by Fax To:</h3>\\n  <h3>Specialty Products 502-244-1373</h3>\\n  <font size=3D\"4\">\\n  <p>(Just write a check and fax it to the above number, NO NEED TO MAIL)<=\\n/p>\\n  </font>\\n  <h3>(Please include email address for the transmission of database.)</h3=\\n>\\n  <b><font size=3D\"4\">\\n  <p>By Mail:</p>\\n  <p>Specialty Products</p>\\n  <p>210 Dorshire Court</p>\\n  <p>Louisville, KY 40245</p>\\n  </font><font size=3D\"2\">\\n  <p>(Please remember to include a valid email address for the transmissio=\\nn of\\n  the Database)</p>\\n  </font></b>\\n  <h3>For your protection, we provide a<font color=3D\"#ff0000\"> <u>30 DAY,=\\n 100%\\n  MONEY BACK, SATISFACTION GUARANTEE</u></font>, if we have misrepresented=\\n our\\n  product.</h3>\\n  <h3>What do you get for your<font color=3D\"#ff0000\"> $66.50 investment:<=\\n/font>\\n  During Promotion A, fully executable, database (within 24 hours, or less=\\n) of\\n  100=FFFFFF92s of suppliers with hyperlinks to their websites, fax and ph=\\none numbers\\n  and a description of what type of product they handle and current produc=\\nt\\n  specials.</h3>\\n  <i><font color=3D\"#ff0000\">\\n  <h3>And, &quot;On-going telephone support during normal business hours.&=\\nquot;</h3>\\n  </font></i>\\n  <h3>Since this is such a fast changing business, with new products being=\\n added\\n  and deleted on a weekly or even a daily basis, all data will be provided\\n  within 24 hours of receipt of payment via email file transfer. ( no wait=\\ning or\\n  shipping and handling costs) The <font color=3D\"#ff0000\">$66.50</font> i=\\ns your <i><u><font color=3D\"#ff0000\">total</font></u></i>\\n  one time <font color=3D\"#ff0000\">cost</font>. (During Promotion)</h3>\\n  <h3>This DATABASE is for individuals who recognize an opportunity to mak=\\ne a\\n  substantial income. Keep in mind, everyone likes a bargain, and even mor=\\ne so\\n  when the economy is down. So, even if you just want to buy for your own =\\nuse, a\\n  single purchase could repay your initial investment. And, remember we pr=\\novide\\n  a <u><font color=3D\"#ff0000\">30day, full refund satisfaction guarantee.<=\\n/font></u></h3>\\n  <h3>We know that this has been a brief description, and you may want\\n  additional information. You may email us at <a href=3D\"mailto:moreof80to=\\n95@themail.com\">moreof80to95@themail.com</a>\\n  for additional information and a sample of listings currently being offe=\\nred by\\n  various suppliers. <font color=3D\"#ff0000\">(If you give us some idea of =\\nwhat\\n  types of products interest you, we will try to include some sample listi=\\nngs of\\n  those products.)</h3>\\n  </font>\\n  <h3>We look forward to being of service in your new venture.</h3>\\n  <font size=3D\"2\">\\n  <p>Specialty Products</p>\\n  </font>\\n</div>\\n<p><a href=3D\"mailto:nancyque@themail.com?Subject=3Dgone\">takeoffemaildata=\\nbaseclickhere</a></p>\\n\\n</body>\\n\\n</html>\\n\\n\\n\\n'"
      ]
     },
     "execution_count": 750,
     "metadata": {},
     "output_type": "execute_result"
    }
   ],
   "source": [
    "x_test[4]"
   ]
  },
  {
   "cell_type": "code",
   "execution_count": 746,
   "id": "eaeb085d",
   "metadata": {},
   "outputs": [
    {
     "data": {
      "text/plain": [
       "array([0., 0., 0., 0., 1., 1., 0., 0., 1., 0., 0., 1., 0., 0., 0., 0., 0.,\n",
       "       1., 0., 1., 0., 1., 1., 0., 0., 0., 1., 1., 0., 0., 0., 0., 1., 1.,\n",
       "       0., 0., 1., 0., 1., 0., 1., 1., 0., 0., 0., 0., 1., 1., 1., 1., 1.,\n",
       "       1., 0., 1., 0., 1., 1., 0., 1., 1., 0., 0., 1., 0., 1., 0., 1., 0.,\n",
       "       0., 1., 0., 1., 1., 0., 1., 0., 1., 1., 0., 1., 0., 0., 0., 1., 0.,\n",
       "       1., 1., 1., 1., 1., 1., 0., 0., 0., 1., 1., 0., 1., 0., 1., 1., 0.,\n",
       "       1., 1., 0., 0., 1., 1., 1., 1., 0., 0., 1., 0., 0., 0., 0., 1., 1.,\n",
       "       0., 1., 1., 0., 0., 1., 0., 0., 0., 0., 1., 0., 1., 1., 1., 0., 0.,\n",
       "       0., 0., 1., 1., 0., 1., 1., 0., 1., 1., 1., 0., 0., 0., 1., 0., 0.,\n",
       "       1., 1., 1., 0., 1., 0., 1., 1., 1., 0., 1., 1., 1., 1., 1., 0., 0.,\n",
       "       1., 1., 0., 1., 0., 0., 1., 0., 0., 1., 0., 0., 1., 0., 0., 1., 0.,\n",
       "       1., 0., 0., 0., 1., 0., 1., 0., 1., 0., 1., 1., 0., 1., 0., 0., 0.,\n",
       "       1., 1., 0., 0., 0., 0., 1., 0., 0., 0., 1., 0., 0., 1., 1., 0., 1.,\n",
       "       0., 1., 0., 0., 1., 0., 1., 0., 0., 1., 1., 1., 1., 0., 0., 0., 1.,\n",
       "       1., 0., 0., 0., 0., 1., 1., 1., 1., 0., 0., 1., 1., 0., 1., 0., 0.,\n",
       "       1., 0., 1., 1., 0., 0., 1., 1., 0., 1., 1., 0., 0., 1., 1., 0., 0.,\n",
       "       1., 1., 1., 0., 1., 1., 1., 0., 0., 0., 0., 1., 1., 0., 1., 0., 0.,\n",
       "       1., 1., 0., 0., 1., 0., 1., 0., 1., 1., 0., 1., 0., 1., 0., 0., 0.,\n",
       "       0., 0., 0., 1., 0., 0., 1., 0., 1., 0., 1., 1., 1., 1., 1., 0., 1.,\n",
       "       1., 1., 0., 1., 1., 0., 1., 0., 0., 1., 1., 1., 1., 0., 1., 0., 1.,\n",
       "       1., 0., 0., 1., 0., 1., 1., 1., 0., 1., 1., 0., 0., 1., 1., 0., 0.,\n",
       "       1., 1., 1., 0., 0., 1., 0., 0., 1., 1., 1., 1., 0., 0., 0., 1., 1.,\n",
       "       0., 0., 1., 1., 0., 0., 1., 0., 0., 1., 0., 0., 0., 0., 0., 0., 0.,\n",
       "       1., 0., 0., 0., 1., 1., 0., 0., 1., 0., 1., 0., 1., 0., 0., 1., 1.,\n",
       "       1., 1., 0., 0., 0., 1., 0., 1., 1., 0., 0., 1., 0., 0., 0., 0., 0.,\n",
       "       1., 0., 0., 0., 1., 0., 1., 1., 1., 0., 0., 1., 1., 0., 1., 1., 1.,\n",
       "       0., 0., 0., 0., 1., 0., 0., 0., 0., 0., 1., 1., 0., 0., 0., 0., 1.,\n",
       "       1., 1., 0., 1., 1., 0., 1., 1., 1., 0., 0., 1., 1., 1., 1., 1., 0.,\n",
       "       0., 1., 1., 1., 0., 0., 0., 1., 1., 1., 0., 1., 1., 0., 0., 0., 0.,\n",
       "       0., 1., 0., 0., 0., 0., 1., 0., 1., 1., 1., 1., 0., 0., 1., 0., 0.,\n",
       "       1., 1., 0., 0., 0., 1., 1., 0., 0., 0., 0., 0., 1., 1., 0., 1., 0.,\n",
       "       1., 1., 1., 1., 0., 1., 0., 1., 1., 1., 1., 1., 0., 1., 0., 0., 0.,\n",
       "       1., 0., 0., 0., 1., 1., 0., 0., 1., 0., 0., 0., 1., 1., 0., 1.])"
      ]
     },
     "execution_count": 746,
     "metadata": {},
     "output_type": "execute_result"
    }
   ],
   "source": [
    "y_pred"
   ]
  }
 ],
 "metadata": {
  "kernelspec": {
   "display_name": "Python 3 (ipykernel)",
   "language": "python",
   "name": "python3"
  },
  "language_info": {
   "codemirror_mode": {
    "name": "ipython",
    "version": 3
   },
   "file_extension": ".py",
   "mimetype": "text/x-python",
   "name": "python",
   "nbconvert_exporter": "python",
   "pygments_lexer": "ipython3",
   "version": "3.10.2"
  }
 },
 "nbformat": 4,
 "nbformat_minor": 5
}
