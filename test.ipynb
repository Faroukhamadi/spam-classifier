{
 "cells": [
  {
   "cell_type": "code",
   "execution_count": 228,
   "id": "26d24710",
   "metadata": {},
   "outputs": [],
   "source": [
    "import os\n",
    "import urllib.request\n",
    "import tarfile\n",
    "import re\n",
    "\n",
    "import numpy as np\n",
    "from sklearn.feature_extraction import DictVectorizer\n",
    "from sklearn.feature_extraction.text import CountVectorizer\n",
    "from collections import Counter"
   ]
  },
  {
   "cell_type": "code",
   "execution_count": 586,
   "id": "21755124",
   "metadata": {},
   "outputs": [],
   "source": [
    "DOWNLOAD_ROOT = 'https://spamassassin.apache.org/old/publiccorpus/'\n",
    "SPAM_PATHS = [\n",
    "    '20021010_easy_ham.tar.bz2',\n",
    "    '20021010_hard_ham.tar.bz2',\n",
    "    '20021010_spam.tar.bz2',\n",
    "    '20030228_easy_ham.tar.bz2',\n",
    "    '20030228_easy_ham_2.tar.bz2',\n",
    "    '20030228_hard_ham.tar.bz2',\n",
    "    '20030228_spam.tar.bz2',\n",
    "    '20030228_spam_2.tar.bz2',\n",
    "    '20050311_spam_2.tar.bz2',\n",
    "]"
   ]
  },
  {
   "cell_type": "markdown",
   "id": "9e093425",
   "metadata": {},
   "source": [
    "### Concatenating all datasets might not work!! Too much data"
   ]
  },
  {
   "cell_type": "code",
   "execution_count": 587,
   "id": "0532bc39",
   "metadata": {},
   "outputs": [],
   "source": [
    "def fetch_spam_data(download_root=DOWNLOAD_ROOT, spam_paths=SPAM_PATHS):\n",
    "    if not os.path.isdir('data'):\n",
    "        os.makedirs('data')\n",
    "    for path in SPAM_PATHS:\n",
    "        url = DOWNLOAD_ROOT + path\n",
    "        tgz_path = os.path.join('data', path)\n",
    "        urllib.request.urlretrieve(url, tgz_path)\n",
    "        spam_tgz = tarfile.open(tgz_path)\n",
    "        spam_tgz.extractall(path='data')\n",
    "    spam_tgz.close()"
   ]
  },
  {
   "cell_type": "code",
   "execution_count": 588,
   "id": "de89fd4c",
   "metadata": {},
   "outputs": [],
   "source": [
    "fetch_spam_data()"
   ]
  },
  {
   "cell_type": "markdown",
   "id": "4b67725b",
   "metadata": {},
   "source": [
    "### One spam example + one ham example should do it"
   ]
  },
  {
   "cell_type": "code",
   "execution_count": 237,
   "id": "4f6103dc",
   "metadata": {},
   "outputs": [],
   "source": [
    "def load_data():\n",
    "    ham_path = os.path.join(os.getcwd(), 'data', 'easy_ham_2')\n",
    "    spam_path = os.path.join(os.getcwd(), 'data', 'spam_2')\n",
    "    \n",
    "    x_spam = []\n",
    "    x_ham = []\n",
    "    \n",
    "    for filename in os.listdir(ham_path):\n",
    "        abs_path = os.path.join(ham_path, filename)\n",
    "        with open(abs_path, 'r', encoding='utf8', errors='ignore') as f:\n",
    "            x_ham.append(f.read())\n",
    "\n",
    "    for filename in os.listdir(spam_path):\n",
    "        abs_path = os.path.join(spam_path, filename)\n",
    "        with open(abs_path, 'r', encoding='utf8', errors='ignore') as f:\n",
    "            x_spam.append(f.read())\n",
    "            \n",
    "    return np.array(x_spam, dtype='object'), np.array(x_ham, dtype='object')"
   ]
  },
  {
   "cell_type": "markdown",
   "id": "3b82793e",
   "metadata": {},
   "source": [
    "## Warning! Don't use the function below"
   ]
  },
  {
   "cell_type": "code",
   "execution_count": 238,
   "id": "598d50aa",
   "metadata": {},
   "outputs": [],
   "source": [
    "def load_all_data():\n",
    "    \"\"\"\n",
    "    If OpenAI ever wants to test their TPUs, this is a good place to start.\n",
    "    Not feasible on a normal computer though :(\n",
    "    \"\"\"\n",
    "    x_spam = []\n",
    "    x_ham = []\n",
    "    path = os.path.join(os.getcwd(), 'data')\n",
    "    for dirname in os.listdir(path):\n",
    "        if 'tar' not in dirname:\n",
    "            if 'spam' in dirname:\n",
    "                for filename in os.listdir(os.path.join(path, dirname)):\n",
    "                    abs_path = os.path.join(path, dirname, filename)\n",
    "                    with open(abs_path, 'rb') as f:\n",
    "                        x_spam.append(f.read().split())\n",
    "            else:\n",
    "                for filename in os.listdir(os.path.join(path, dirname)):\n",
    "                    abs_path = os.path.join(path, dirname, filename)\n",
    "                    with open(abs_path, 'rb') as f:\n",
    "                        x_ham.append(f.read().split())\n",
    "    return np.array(x_spam), np.array(x_ham)"
   ]
  },
  {
   "cell_type": "code",
   "execution_count": 240,
   "id": "2f9302e1",
   "metadata": {},
   "outputs": [],
   "source": [
    "x_spam, x_ham = load_data()\n",
    "y_spam = np.ones(x_spam.shape)\n",
    "y_ham = np.zeros(x_ham.shape)"
   ]
  },
  {
   "cell_type": "code",
   "execution_count": 223,
   "id": "669e568f",
   "metadata": {},
   "outputs": [],
   "source": [
    "x = np.concatenate([x_spam, x_ham])\n",
    "y = np.concatenate([y_spam, y_ham])"
   ]
  },
  {
   "cell_type": "markdown",
   "id": "f3e927a0",
   "metadata": {},
   "source": [
    "### Define a custom tokenizer to ignore non UTF-8 chars"
   ]
  },
  {
   "cell_type": "code",
   "execution_count": 292,
   "id": "43bf992e",
   "metadata": {},
   "outputs": [],
   "source": [
    "vectorizer = CountVectorizer(encoding='ISO-8859-1')\n",
    "emails_bow_sparse = vectorizer.fit_transform(x)"
   ]
  },
  {
   "cell_type": "code",
   "execution_count": 296,
   "id": "64b2b6cb",
   "metadata": {
    "scrolled": true
   },
   "outputs": [],
   "source": [
    "emails_bow = emails_bow_sparse.toarray()"
   ]
  },
  {
   "cell_type": "code",
   "execution_count": 297,
   "id": "30aa8cf1",
   "metadata": {},
   "outputs": [
    {
     "data": {
      "text/plain": [
       "numpy.ndarray"
      ]
     },
     "execution_count": 297,
     "metadata": {},
     "output_type": "execute_result"
    }
   ],
   "source": []
  },
  {
   "cell_type": "code",
   "execution_count": null,
   "id": "ed7a8378",
   "metadata": {},
   "outputs": [],
   "source": []
  },
  {
   "cell_type": "code",
   "execution_count": null,
   "id": "7cc6931f",
   "metadata": {},
   "outputs": [],
   "source": []
  },
  {
   "cell_type": "code",
   "execution_count": null,
   "id": "8260595c",
   "metadata": {},
   "outputs": [],
   "source": []
  },
  {
   "cell_type": "code",
   "execution_count": null,
   "id": "86b07f72",
   "metadata": {},
   "outputs": [],
   "source": []
  }
 ],
 "metadata": {
  "kernelspec": {
   "display_name": "Python 3 (ipykernel)",
   "language": "python",
   "name": "python3"
  },
  "language_info": {
   "codemirror_mode": {
    "name": "ipython",
    "version": 3
   },
   "file_extension": ".py",
   "mimetype": "text/x-python",
   "name": "python",
   "nbconvert_exporter": "python",
   "pygments_lexer": "ipython3",
   "version": "3.10.2"
  }
 },
 "nbformat": 4,
 "nbformat_minor": 5
}
